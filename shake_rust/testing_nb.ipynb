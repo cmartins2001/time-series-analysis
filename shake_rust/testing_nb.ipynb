{
 "cells": [
  {
   "cell_type": "markdown",
   "metadata": {},
   "source": [
    "Test Notebook for Classes:"
   ]
  },
  {
   "cell_type": "code",
   "execution_count": 22,
   "metadata": {},
   "outputs": [],
   "source": [
    "import pandas as pd\n",
    "import os\n",
    "from structure import TimeSeriesDataLoader"
   ]
  },
  {
   "cell_type": "code",
   "execution_count": 18,
   "metadata": {},
   "outputs": [],
   "source": [
    "# Create an instance of the class:\n",
    "test_class = TimeSeriesDataLoader(name=\"daily_log_data.csv\")\n",
    "\n",
    "# Create an instance with the misnamed date column:\n",
    "misnamed_date = TimeSeriesDataLoader(\"wrong_date_col.csv\")"
   ]
  },
  {
   "cell_type": "code",
   "execution_count": 21,
   "metadata": {},
   "outputs": [
    {
     "data": {
      "text/plain": [
       "0    2024-05-31\n",
       "1    2024-06-01\n",
       "2    2024-06-02\n",
       "3    2024-06-03\n",
       "4    2024-06-04\n",
       "        ...    \n",
       "83   2024-08-24\n",
       "84   2024-08-25\n",
       "85   2024-08-26\n",
       "86   2024-08-27\n",
       "87   2024-08-28\n",
       "Name: date, Length: 88, dtype: datetime64[ns]"
      ]
     },
     "execution_count": 21,
     "metadata": {},
     "output_type": "execute_result"
    }
   ],
   "source": [
    "# View data:\n",
    "test_class.date_col"
   ]
  },
  {
   "cell_type": "code",
   "execution_count": 20,
   "metadata": {},
   "outputs": [
    {
     "name": "stdout",
     "output_type": "stream",
     "text": [
      "None\n"
     ]
    }
   ],
   "source": [
    "# Test methods here:\n",
    "print(test_class.set_date_col())"
   ]
  }
 ],
 "metadata": {
  "kernelspec": {
   "display_name": "Python 3",
   "language": "python",
   "name": "python3"
  },
  "language_info": {
   "codemirror_mode": {
    "name": "ipython",
    "version": 3
   },
   "file_extension": ".py",
   "mimetype": "text/x-python",
   "name": "python",
   "nbconvert_exporter": "python",
   "pygments_lexer": "ipython3",
   "version": "3.10.7"
  }
 },
 "nbformat": 4,
 "nbformat_minor": 2
}
